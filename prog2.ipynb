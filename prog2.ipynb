{
  "nbformat": 4,
  "nbformat_minor": 0,
  "metadata": {
    "colab": {
      "provenance": [],
      "authorship_tag": "ABX9TyNppgXjPTDP482jXIaDMjaR"
    },
    "kernelspec": {
      "name": "python3",
      "display_name": "Python 3"
    },
    "language_info": {
      "name": "python"
    }
  },
  "cells": [
    {
      "cell_type": "code",
      "source": [
        "x = 2\n",
        "y = 3\n",
        "z = x + y"
      ],
      "metadata": {
        "id": "ifVKMlxh9zWw"
      },
      "execution_count": 1,
      "outputs": []
    }
  ]
}